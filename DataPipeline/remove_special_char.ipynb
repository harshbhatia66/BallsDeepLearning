{
 "cells": [
  {
   "cell_type": "code",
   "execution_count": null,
   "metadata": {},
   "outputs": [],
   "source": [
    "import os\n",
    "import re\n",
    "\n",
    "def rename_mp3_files(folder_path):\n",
    "    # List all files in the folder\n",
    "    file_list = os.listdir(folder_path)\n",
    "\n",
    "    # Iterate through each file in the folder\n",
    "    for file_name in file_list:\n",
    "        # Check if the file is an MP3 file\n",
    "        if file_name.endswith('.mp3'):\n",
    "            # Remove special characters except the dot (.) before the file extension\n",
    "            new_file_name = re.sub(r'[^\\w.]', '', file_name)\n",
    "            \n",
    "            # Rename the file\n",
    "            os.rename(os.path.join(folder_path, file_name), os.path.join(folder_path, new_file_name))\n",
    "            print(f\"Renamed '{file_name}' to '{new_file_name}'\")\n",
    "            \n",
    "# Call the function with the path to your mp3 folder\n",
    "# TODO:\n",
    "# Unittest for the function\n"
   ]
  }
 ],
 "metadata": {
  "kernelspec": {
   "display_name": "env",
   "language": "python",
   "name": "python3"
  },
  "language_info": {
   "codemirror_mode": {
    "name": "ipython",
    "version": 3
   },
   "file_extension": ".py",
   "mimetype": "text/x-python",
   "name": "python",
   "nbconvert_exporter": "python",
   "pygments_lexer": "ipython3",
   "version": "3.10.11"
  },
  "orig_nbformat": 4
 },
 "nbformat": 4,
 "nbformat_minor": 2
}
