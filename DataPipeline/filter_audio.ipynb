{
 "cells": [
  {
   "attachments": {},
   "cell_type": "markdown",
   "metadata": {},
   "source": [
    "Import libraries"
   ]
  },
  {
   "cell_type": "code",
   "execution_count": 1,
   "metadata": {},
   "outputs": [
    {
     "name": "stderr",
     "output_type": "stream",
     "text": [
      "c:\\Users\\Harsh\\Documents\\gap\\gapvoice\\audio_preprocessing\\env\\lib\\site-packages\\tqdm\\auto.py:21: TqdmWarning: IProgress not found. Please update jupyter and ipywidgets. See https://ipywidgets.readthedocs.io/en/stable/user_install.html\n",
      "  from .autonotebook import tqdm as notebook_tqdm\n",
      "The torchaudio backend is switched to 'soundfile'. Note that 'sox_io' is not supported on Windows.\n",
      "The torchaudio backend is switched to 'soundfile'. Note that 'sox_io' is not supported on Windows.\n"
     ]
    }
   ],
   "source": [
    "import os\n",
    "import torch\n",
    "from speechbrain.pretrained import SpeakerRecognition\n",
    "from speechbrain.pretrained import EncoderClassifier\n",
    "from speechbrain.pretrained import Pretrained\n",
    "\n",
    "import sqlite3\n",
    "import tempfile\n",
    "import re\n",
    "import concurrent.futures\n",
    "import numpy as np\n"
   ]
  },
  {
   "attachments": {},
   "cell_type": "markdown",
   "metadata": {},
   "source": [
    "Define the SpeakerVerification class"
   ]
  },
  {
   "cell_type": "code",
   "execution_count": 8,
   "metadata": {},
   "outputs": [],
   "source": [
    "class SpeakerVerification:\n",
    "    def __init__(self, reference_folder, folder_path, device):\n",
    "        self.reference_folder = reference_folder\n",
    "        self.folder_path = folder_path\n",
    "        self.device = device\n",
    "\n",
    "        self.sr_model, self.ec_model, self.p_model = self.load_models()\n",
    "\n",
    "    def load_models(self):\n",
    "        sr_model = SpeakerRecognition.from_hparams(source=\"speechbrain/spkrec-ecapa-voxceleb\", savedir=\"pretrained_models/spkrec-ecapa-voxceleb\").to(self.device)\n",
    "        ec_model = EncoderClassifier.from_hparams(source=\"speechbrain/spkrec-ecapa-voxceleb\", savedir=\"pretrained_models/spkrec-ecapa-voxceleb\").to(self.device)\n",
    "        p_model = Pretrained.from_hparams(source=\"speechbrain/spkrec-ecapa-voxceleb\", savedir=\"pretrained_models/spkrec-ecapa-voxceleb\").to(self.device)\n",
    "\n",
    "        return sr_model, ec_model, p_model\n",
    "\n",
    "    def extract_reference_embeddings(self):\n",
    "        emb_refs = []\n",
    "\n",
    "        for ref_file in os.listdir(self.reference_folder):\n",
    "            if ref_file.endswith('.wav'):\n",
    "                print(f\"Creating embedding for reference file: {ref_file}\")\n",
    "                waveform_x = self.p_model.load_audio(path=os.path.join(self.reference_folder, ref_file))\n",
    "                batch_x = waveform_x.unsqueeze(0).to(self.device)\n",
    "\n",
    "                emb_ref = self.ec_model.encode_batch(batch_x, normalize=True).to(self.device)\n",
    "\n",
    "                \n",
    "                emb_refs.append(emb_ref)\n",
    "\n",
    "        return emb_refs\n",
    "\n",
    "    def compare_embeddings(self, emb_refs, emb_y):\n",
    "        similarity = torch.nn.CosineSimilarity(dim=-1, eps=1e-6)\n",
    "\n",
    "        scores = [similarity(emb_y, emb_ref) for emb_ref in emb_refs]\n",
    "\n",
    "        max_score = np.max(scores)\n",
    "        is_speaker = 1 if max_score > 0.25 else 0\n",
    "        return is_speaker\n",
    "\n",
    "    def verify(self, emb_refs):\n",
    "        # Use the verification metadata file\n",
    "        # Create one if it doesn't exist\n",
    "        def sort_key(file):\n",
    "            match = re.match(r'(.*)_segment(\\d+)', file)\n",
    "            if match:\n",
    "                return match.group(1), int(match.group(2))\n",
    "            else:\n",
    "                return file, 0\n",
    "        ver_metadata_file = 'verification_metadata.txt'\n",
    "        if not os.path.exists(ver_metadata_file):\n",
    "            with open(ver_metadata_file, 'w') as f:\n",
    "                f.write('')\n",
    "    \n",
    "        files = os.listdir(self.folder_path)\n",
    "        total_files = len(files)\n",
    "        files.sort(key=sort_key)\n",
    "        count = 0   \n",
    "        for file in files:\n",
    "            if file.endswith('.mp3'):\n",
    "                try:\n",
    "                    waveform_y = self.p_model.load_audio(path=os.path.join(self.folder_path, file))\n",
    "                    batch_y = waveform_y.unsqueeze(0).to(self.device)\n",
    "                    emb_y = self.ec_model.encode_batch(batch_y, normalize=True)\n",
    "                    is_speaker = self.compare_embeddings(emb_refs, emb_y)\n",
    "\n",
    "                    \n",
    "                    with open(ver_metadata_file, 'a') as f:\n",
    "                        f.write(f\"{file}|{is_speaker}\\n\")\n",
    "          \n",
    "                    \n",
    "                except Exception as e:\n",
    "                    print(f\"Error verifying file: {file}\")\n",
    "            \n",
    "            # print progress percentage\n",
    "            count += 1\n",
    "            print(f\"Progress: {count}/{total_files} ({count/total_files*100:.2f}%)\", end='\\r')\n",
    "\n"
   ]
  },
  {
   "attachments": {},
   "cell_type": "markdown",
   "metadata": {},
   "source": [
    "Set device and folder paths"
   ]
  },
  {
   "cell_type": "code",
   "execution_count": 9,
   "metadata": {},
   "outputs": [],
   "source": [
    "device = torch.device('cpu')  # use GPU if available, else CPU\n",
    "\n",
    "\n",
    "reference_folder = r\"C:\\Users\\Harsh\\Documents\\gap\\gapvoice\\audio_preprocessing\\src\\standard\"\n",
    "folder_path = r\"C:\\Users\\Harsh\\Documents\\gap\\gapvoice\\audio_preprocessing\\src\\segments\"\n"
   ]
  },
  {
   "attachments": {},
   "cell_type": "markdown",
   "metadata": {},
   "source": [
    "Initialize SpeakerVerification and extract reference embeddings"
   ]
  },
  {
   "cell_type": "code",
   "execution_count": 10,
   "metadata": {},
   "outputs": [
    {
     "name": "stdout",
     "output_type": "stream",
     "text": [
      "Creating embedding for reference file: I Finally Listened To You.mp3_segment_000.wav\n",
      "Creating embedding for reference file: I Finally Listened To You.mp3_segment_001.wav\n",
      "Creating embedding for reference file: I Finally Listened To You.mp3_segment_002.wav\n",
      "Creating embedding for reference file: I Finally Listened To You.mp3_segment_003.wav\n",
      "Creating embedding for reference file: I Finally Listened To You.mp3_segment_004.wav\n",
      "Creating embedding for reference file: I Finally Listened To You.mp3_segment_005.wav\n",
      "Creating embedding for reference file: I Finally Listened To You.mp3_segment_006.wav\n",
      "Creating embedding for reference file: I Finally Listened To You.mp3_segment_007.wav\n",
      "Creating embedding for reference file: I Finally Listened To You.mp3_segment_008.wav\n",
      "Creating embedding for reference file: I Finally Listened To You.mp3_segment_009.wav\n",
      "Creating embedding for reference file: I Finally Listened To You.mp3_segment_010.wav\n",
      "Creating embedding for reference file: I Finally Listened To You.mp3_segment_011.wav\n",
      "Creating embedding for reference file: I Finally Listened To You.mp3_segment_012.wav\n",
      "Creating embedding for reference file: I Finally Listened To You.mp3_segment_013.wav\n",
      "Creating embedding for reference file: I Finally Listened To You.mp3_segment_014.wav\n",
      "Creating embedding for reference file: I Finally Listened To You.mp3_segment_015.wav\n",
      "Creating embedding for reference file: I Finally Listened To You.mp3_segment_016.wav\n",
      "Creating embedding for reference file: I Finally Listened To You.mp3_segment_017.wav\n",
      "Creating embedding for reference file: I Finally Listened To You.mp3_segment_018.wav\n",
      "Creating embedding for reference file: I Finally Listened To You.mp3_segment_019.wav\n",
      "Creating embedding for reference file: I Finally Listened To You.mp3_segment_020.wav\n",
      "Creating embedding for reference file: I Finally Listened To You.mp3_segment_021.wav\n",
      "Creating embedding for reference file: I Finally Listened To You.mp3_segment_022.wav\n",
      "Creating embedding for reference file: I Finally Listened To You.mp3_segment_023.wav\n",
      "Creating embedding for reference file: I Finally Listened To You.mp3_segment_024.wav\n",
      "Creating embedding for reference file: I Finally Listened To You.mp3_segment_025.wav\n",
      "Creating embedding for reference file: I Finally Listened To You.mp3_segment_026.wav\n",
      "Creating embedding for reference file: I Finally Listened To You.mp3_segment_027.wav\n",
      "Creating embedding for reference file: I Finally Listened To You.mp3_segment_028.wav\n",
      "Creating embedding for reference file: I Finally Listened To You.mp3_segment_029.wav\n",
      "Creating embedding for reference file: I Finally Listened To You.mp3_segment_030.wav\n",
      "Creating embedding for reference file: I Finally Listened To You.mp3_segment_031.wav\n",
      "Creating embedding for reference file: I Finally Listened To You.mp3_segment_032.wav\n",
      "Creating embedding for reference file: I Finally Listened To You.mp3_segment_033.wav\n",
      "Creating embedding for reference file: I Finally Listened To You.mp3_segment_034.wav\n",
      "Creating embedding for reference file: I Finally Listened To You.mp3_segment_035.wav\n",
      "Creating embedding for reference file: I Finally Listened To You.mp3_segment_036.wav\n",
      "Creating embedding for reference file: I Finally Listened To You.mp3_segment_037.wav\n",
      "Creating embedding for reference file: I Finally Listened To You.mp3_segment_038.wav\n",
      "Creating embedding for reference file: I Finally Listened To You.mp3_segment_039.wav\n",
      "Creating embedding for reference file: I Finally Listened To You.mp3_segment_040.wav\n",
      "Creating embedding for reference file: I Finally Listened To You.mp3_segment_041.wav\n",
      "Creating embedding for reference file: I Finally Listened To You.mp3_segment_042.wav\n",
      "Creating embedding for reference file: I Finally Listened To You.mp3_segment_043.wav\n",
      "Creating embedding for reference file: I Finally Listened To You.mp3_segment_044.wav\n",
      "Creating embedding for reference file: I Finally Listened To You.mp3_segment_045.wav\n",
      "Creating embedding for reference file: I Finally Listened To You.mp3_segment_046.wav\n",
      "Creating embedding for reference file: I Finally Listened To You.mp3_segment_047.wav\n",
      "Creating embedding for reference file: I Finally Listened To You.mp3_segment_048.wav\n",
      "Creating embedding for reference file: I Finally Listened To You.mp3_segment_049.wav\n",
      "Creating embedding for reference file: I Finally Listened To You.mp3_segment_050.wav\n",
      "Creating embedding for reference file: I Finally Listened To You.mp3_segment_051.wav\n",
      "Creating embedding for reference file: I Finally Listened To You.mp3_segment_052.wav\n",
      "Creating embedding for reference file: I Finally Listened To You.mp3_segment_053.wav\n",
      "Creating embedding for reference file: I Finally Listened To You.mp3_segment_054.wav\n",
      "Creating embedding for reference file: I Finally Listened To You.mp3_segment_055.wav\n",
      "Creating embedding for reference file: I Finally Listened To You.mp3_segment_056.wav\n",
      "Creating embedding for reference file: I Finally Listened To You.mp3_segment_057.wav\n",
      "Creating embedding for reference file: I Finally Listened To You.mp3_segment_058.wav\n",
      "Creating embedding for reference file: I Finally Listened To You.mp3_segment_059.wav\n",
      "Creating embedding for reference file: I Finally Listened To You.mp3_segment_060.wav\n",
      "Creating embedding for reference file: I Finally Listened To You.mp3_segment_061.wav\n",
      "Creating embedding for reference file: I Finally Listened To You.mp3_segment_062.wav\n",
      "Creating embedding for reference file: I Finally Listened To You.mp3_segment_063.wav\n",
      "Creating embedding for reference file: I Finally Listened To You.mp3_segment_064.wav\n",
      "Creating embedding for reference file: I Finally Listened To You.mp3_segment_065.wav\n",
      "Creating embedding for reference file: I Finally Listened To You.mp3_segment_066.wav\n",
      "Creating embedding for reference file: I Finally Listened To You.mp3_segment_067.wav\n",
      "Creating embedding for reference file: I Finally Listened To You.mp3_segment_068.wav\n",
      "Creating embedding for reference file: I Finally Listened To You.mp3_segment_069.wav\n",
      "Creating embedding for reference file: I Finally Listened To You.mp3_segment_070.wav\n",
      "Creating embedding for reference file: I Finally Listened To You.mp3_segment_071.wav\n",
      "Creating embedding for reference file: I Finally Listened To You.mp3_segment_072.wav\n",
      "Creating embedding for reference file: I Finally Listened To You.mp3_segment_073.wav\n",
      "Creating embedding for reference file: I Finally Listened To You.mp3_segment_074.wav\n",
      "Creating embedding for reference file: I Finally Listened To You.mp3_segment_075.wav\n",
      "Creating embedding for reference file: I Finally Listened To You.mp3_segment_076.wav\n",
      "Creating embedding for reference file: I Finally Listened To You.mp3_segment_077.wav\n",
      "Creating embedding for reference file: I Finally Listened To You.mp3_segment_078.wav\n",
      "Creating embedding for reference file: I Finally Listened To You.mp3_segment_079.wav\n",
      "Creating embedding for reference file: I Finally Listened To You.mp3_segment_080.wav\n",
      "Creating embedding for reference file: I Finally Listened To You.mp3_segment_081.wav\n",
      "Creating embedding for reference file: I Finally Listened To You.mp3_segment_082.wav\n",
      "Creating embedding for reference file: I Finally Listened To You.mp3_segment_083.wav\n",
      "Creating embedding for reference file: I Finally Listened To You.mp3_segment_084.wav\n",
      "Creating embedding for reference file: I Finally Listened To You.mp3_segment_085.wav\n",
      "Creating embedding for reference file: I Finally Listened To You.mp3_segment_086.wav\n",
      "Creating embedding for reference file: I Finally Listened To You.mp3_segment_087.wav\n",
      "Creating embedding for reference file: I Finally Listened To You.mp3_segment_088.wav\n",
      "Creating embedding for reference file: I Finally Listened To You.mp3_segment_089.wav\n",
      "Creating embedding for reference file: I Finally Listened To You.mp3_segment_090.wav\n",
      "Creating embedding for reference file: I Finally Listened To You.mp3_segment_091.wav\n",
      "Creating embedding for reference file: I Finally Listened To You.mp3_segment_092.wav\n",
      "Creating embedding for reference file: I Finally Listened To You.mp3_segment_093.wav\n"
     ]
    }
   ],
   "source": [
    "spk_verify = SpeakerVerification(reference_folder, folder_path, device)\n",
    "emb_refs = spk_verify.extract_reference_embeddings()\n"
   ]
  },
  {
   "attachments": {},
   "cell_type": "markdown",
   "metadata": {},
   "source": [
    "Run verification"
   ]
  },
  {
   "cell_type": "code",
   "execution_count": 11,
   "metadata": {},
   "outputs": [
    {
     "name": "stdout",
     "output_type": "stream",
     "text": [
      "Progress: 73062/73062 (100.00%)\r"
     ]
    }
   ],
   "source": [
    "spk_verify.verify(emb_refs)\n"
   ]
  }
 ],
 "metadata": {
  "kernelspec": {
   "display_name": "env",
   "language": "python",
   "name": "python3"
  },
  "language_info": {
   "codemirror_mode": {
    "name": "ipython",
    "version": 3
   },
   "file_extension": ".py",
   "mimetype": "text/x-python",
   "name": "python",
   "nbconvert_exporter": "python",
   "pygments_lexer": "ipython3",
   "version": "3.10.11"
  },
  "orig_nbformat": 4
 },
 "nbformat": 4,
 "nbformat_minor": 2
}
